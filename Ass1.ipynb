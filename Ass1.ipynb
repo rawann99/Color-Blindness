{
  "cells": [
    {
      "cell_type": "code",
      "execution_count": null,
      "metadata": {
        "id": "mjZZPwcHRk3W"
      },
      "outputs": [],
      "source": [
        "import cv2\n",
        "import matplotlib.pyplot as plt\n",
        "\n",
        "from skimage.io import imread\n",
        "from matplotlib.pyplot import imshow, show, subplot\n",
        "from skimage.color import  rgb2lab\n",
        "from google.colab.patches import cv2_imshow\n",
        "import numpy as np"
      ]
    },
    {
      "cell_type": "markdown",
      "metadata": {
        "id": "54kJMAhT33_-"
      },
      "source": [
        "# **Read image in BGR**\n"
      ]
    },
    {
      "cell_type": "code",
      "execution_count": null,
      "metadata": {
        "colab": {
          "base_uri": "https://localhost:8080/",
          "height": 269
        },
        "id": "wAhhQa6vSGWG",
        "outputId": "77b6a43f-fd2c-46c5-865e-043e26ddf02b"
      },
      "outputs": [
        {
          "output_type": "display_data",
          "data": {
            "text/plain": [
              "<Figure size 432x288 with 1 Axes>"
            ],
            "image/png": "[encoded data removed]"
          },
          "metadata": {
            "needs_background": "light"
          }
        }
      ],
      "source": [
        "img=cv2.imread('/content/images.png')\n",
        "plt.imshow(img)\n",
        "plt.show()"
      ]
    },
    {
      "cell_type": "markdown",
      "metadata": {
        "id": "rkiTFueA33IX"
      },
      "source": [
        "# Convert it from BGR TO RGB "
      ]
    },
    {
      "cell_type": "code",
      "execution_count": null,
      "metadata": {
        "colab": {
          "base_uri": "https://localhost:8080/",
          "height": 269
        },
        "id": "Jb6OcY4cp4OB",
        "outputId": "520d9106-50b6-4d67-d9cd-b4115c3492ce"
      },
      "outputs": [
        {
          "output_type": "display_data",
          "data": {
            "text/plain": [
              "<Figure size 432x288 with 1 Axes>"
            ],
            "image/png": "[encoded data removed]"
          },
          "metadata": {
            "needs_background": "light"
          }
        }
      ],
      "source": [
        "img_rgb = cv2.cvtColor(img, cv2.COLOR_BGR2RGB)\n",
        "plt.imshow(img_rgb)\n",
        "plt.show()\n"
      ]
    },
    {
      "cell_type": "markdown",
      "metadata": {
        "id": "5RLX0wIj41RV"
      },
      "source": [
        "# Transfer RGB to LAB "
      ]
    },
    {
      "cell_type": "code",
      "execution_count": null,
      "metadata": {
        "colab": {
          "base_uri": "https://localhost:8080/",
          "height": 200
        },
        "id": "T_AnvJE4UIBi",
        "outputId": "fb1c65a2-2605-4361-d065-892235a0056f"
      },
      "outputs": [
        {
          "output_type": "display_data",
          "data": {
            "text/plain": [
              "<PIL.Image.Image image mode=RGB size=275x183 at 0x7FBCFAB9DA50>"
            ],
            "image/png": "[encoded data removed]"
          },
          "metadata": {}
        }
      ],
      "source": [
        "img_lab = rgb2lab(img)\n",
        "cv2_imshow(img_lab)\n",
        "\n",
        "\n"
      ]
    },
    {
      "cell_type": "markdown",
      "metadata": {
        "id": "pzqrvHAZ5Mu_"
      },
      "source": [
        "## Separate 3 Chanels "
      ]
    },
    {
      "cell_type": "code",
      "execution_count": null,
      "metadata": {
        "colab": {
          "base_uri": "https://localhost:8080/",
          "height": 200
        },
        "id": "9ezEop6LVM17",
        "outputId": "fb8887a6-80cf-4caf-e03f-da64cea1a794"
      },
      "outputs": [
        {
          "output_type": "display_data",
          "data": {
            "text/plain": [
              "<PIL.Image.Image image mode=L size=275x183 at 0x7FBCFAAAEF90>"
            ],
            "image/png": "[encoded data removed]"
          },
          "metadata": {}
        }
      ],
      "source": [
        "\n",
        "L,A,B=cv2.split(img_lab)\n",
        "cv2_imshow(L) #L chanel"
      ]
    },
    {
      "cell_type": "code",
      "execution_count": null,
      "metadata": {
        "colab": {
          "base_uri": "https://localhost:8080/",
          "height": 200
        },
        "id": "6Cp4DKybVW9A",
        "outputId": "b1a5fa87-4237-4211-cfd3-8c849f893f2b"
      },
      "outputs": [
        {
          "output_type": "display_data",
          "data": {
            "text/plain": [
              "<PIL.Image.Image image mode=L size=275x183 at 0x7FBCFAAB6110>"
            ],
            "image/png": "[encoded data removed]"
          },
          "metadata": {}
        }
      ],
      "source": [
        "cv2_imshow(A) # A chanel"
      ]
    },
    {
      "cell_type": "code",
      "execution_count": null,
      "metadata": {
        "colab": {
          "base_uri": "https://localhost:8080/",
          "height": 200
        },
        "id": "AsOxL6dFV3TT",
        "outputId": "1a5156b1-d6a4-401f-c545-6ee828c8696c"
      },
      "outputs": [
        {
          "output_type": "display_data",
          "data": {
            "text/plain": [
              "<PIL.Image.Image image mode=L size=275x183 at 0x7FBCFAABC9D0>"
            ],
            "image/png": "[encoded data removed]"
          },
          "metadata": {}
        }
      ],
      "source": [
        "cv2_imshow(B) # B chanel \n"
      ]
    },
    {
      "cell_type": "code",
      "execution_count": null,
      "metadata": {
        "colab": {
          "base_uri": "https://localhost:8080/"
        },
        "id": "CchW99trX4bU",
        "outputId": "937b8c00-67cc-4abb-babe-679625b2c837"
      },
      "outputs": [
        {
          "output_type": "execute_result",
          "data": {
            "text/plain": [
              "array([[ 57.90463581,  57.90463581,  57.90463581, ...,  57.90463581,\n",
              "         57.90463581,  57.90463581],\n",
              "       [ 57.90463581,  57.90463581,  57.90463581, ...,  57.90463581,\n",
              "         57.90463581,  57.90463581],\n",
              "       [ 57.90463581,  57.90463581,  57.90463581, ...,  57.90463581,\n",
              "         57.90463581,  57.90463581],\n",
              "       ...,\n",
              "       [-32.58806294, -32.58806294, -32.58806294, ..., -32.58806294,\n",
              "        -32.58806294, -32.58806294],\n",
              "       [-32.58806294, -32.58806294, -32.58806294, ..., -32.58806294,\n",
              "        -32.58806294, -32.58806294],\n",
              "       [-32.58806294, -32.58806294, -32.58806294, ..., -32.58806294,\n",
              "        -32.58806294, -32.58806294]])"
            ]
          },
          "metadata": {},
          "execution_count": 8
        }
      ],
      "source": [
        "B"
      ]
    },
    {
      "cell_type": "code",
      "execution_count": null,
      "metadata": {
        "colab": {
          "base_uri": "https://localhost:8080/"
        },
        "id": "MDpKgd6OX8z0",
        "outputId": "f1661bac-3299-4535-a1ab-a6dd9357cd64"
      },
      "outputs": [
        {
          "output_type": "stream",
          "name": "stdout",
          "text": [
            "(183, 275)\n"
          ]
        }
      ],
      "source": [
        "print(B.shape)\n"
      ]
    },
    {
      "cell_type": "markdown",
      "metadata": {
        "id": "Z4Yc0OONAYT9"
      },
      "source": [
        "# Sperarate Both Colors by new edge "
      ]
    },
    {
      "cell_type": "code",
      "execution_count": null,
      "metadata": {
        "colab": {
          "base_uri": "https://localhost:8080/"
        },
        "id": "53vaAG1mAzI8",
        "outputId": "15d878fa-9913-495d-9725-b8c6f6cc4c4b"
      },
      "outputs": [
        {
          "output_type": "execute_result",
          "data": {
            "text/plain": [
              "array([[  0.        ,   0.        ,   0.        , ...,   0.        ,\n",
              "          0.        ,   0.        ],\n",
              "       [  0.        ,   0.        ,   0.        , ...,   0.        ,\n",
              "          0.        ,   0.        ],\n",
              "       [  0.        ,   0.        ,   0.        , ...,   0.        ,\n",
              "          0.        ,   0.        ],\n",
              "       ...,\n",
              "       [-32.58806294, -32.58806294, -32.58806294, ..., -32.58806294,\n",
              "        -32.58806294, -32.58806294],\n",
              "       [-32.58806294, -32.58806294, -32.58806294, ..., -32.58806294,\n",
              "        -32.58806294, -32.58806294],\n",
              "       [-32.58806294, -32.58806294, -32.58806294, ..., -32.58806294,\n",
              "        -32.58806294, -32.58806294]])"
            ]
          },
          "metadata": {},
          "execution_count": 10
        }
      ],
      "source": [
        "yellow=np.zeros(B.shape)\n",
        "blue=np.zeros(B.shape)\n",
        "for i in range(len(B)):\n",
        "  for j in range(len(B[0])):\n",
        "    if B[i][j]>0:\n",
        "      yellow[i][j]=B[i][j]\n",
        "    else:\n",
        "      blue[i][j]=B[i][j]\n",
        "blue\n"
      ]
    },
    {
      "cell_type": "code",
      "execution_count": null,
      "metadata": {
        "colab": {
          "base_uri": "https://localhost:8080/",
          "height": 200
        },
        "id": "Miqx9Gt9rXIV",
        "outputId": "aa0aee32-332c-45d2-daa3-374847441797"
      },
      "outputs": [
        {
          "output_type": "display_data",
          "data": {
            "text/plain": [
              "<PIL.Image.Image image mode=L size=275x183 at 0x7FBCFAAB6110>"
            ],
            "image/png": "[encoded data removed]"
          },
          "metadata": {}
        }
      ],
      "source": [
        "detected = cv2.Canny(img,100,200)\n",
        "cv2_imshow(detected) \n",
        "\n"
      ]
    },
    {
      "cell_type": "markdown",
      "metadata": {
        "id": "s1Q35iXMBftW"
      },
      "source": [
        "# **Merging the detection with the image**\n",
        "\n"
      ]
    },
    {
      "cell_type": "code",
      "execution_count": null,
      "metadata": {
        "id": "Pa1NjvoOBk_A"
      },
      "outputs": [],
      "source": [
        "# second way \n",
        "def second_way(img):\n",
        "  max_rows_index=detected.argmax(axis=0) \n",
        "  type(max_rows_index)\n",
        "  # detected=np.array(detected) \n",
        "  # print(np.where(detected==255)) \n",
        "  for i in range (img.shape[1]):\n",
        "    img[max_rows_index[0]][i] = 255 \n",
        "  cv2_imshow(img)"
      ]
    },
    {
      "cell_type": "code",
      "execution_count": null,
      "metadata": {
        "colab": {
          "base_uri": "https://localhost:8080/",
          "height": 200
        },
        "id": "5oZ4reaaDBlT",
        "outputId": "77df01e6-2cb2-4517-8b7c-73f22cffad14"
      },
      "outputs": [
        {
          "output_type": "display_data",
          "data": {
            "text/plain": [
              "<PIL.Image.Image image mode=RGB size=275x183 at 0x7FBCFAB9DAD0>"
            ],
            "image/png": "[encoded data removed]"
          },
          "metadata": {}
        }
      ],
      "source": [
        "second_way(img)"
      ]
    },
    {
      "cell_type": "code",
      "execution_count": null,
      "metadata": {
        "id": "pe7RIdUOsQh5"
      },
      "outputs": [],
      "source": [
        "def first_way(img):\n",
        "  for i in range (img.shape[0]):\n",
        "    for j in range(img.shape[1]):\n",
        "        if detected[i][j] == 255:\n",
        "          img[i][j] = 255\n",
        "    \n",
        "  cv2_imshow(img)\n",
        "\n",
        " "
      ]
    },
    {
      "cell_type": "code",
      "execution_count": null,
      "metadata": {
        "colab": {
          "base_uri": "https://localhost:8080/",
          "height": 200
        },
        "id": "kjHVZaswr1eW",
        "outputId": "417a8436-f2d0-4c33-eac8-94ef8add320b"
      },
      "outputs": [
        {
          "output_type": "display_data",
          "data": {
            "text/plain": [
              "<PIL.Image.Image image mode=RGB size=275x183 at 0x7FBCEF1A2650>"
            ],
            "image/png": "[encoded data removed]"
          },
          "metadata": {}
        }
      ],
      "source": [
        "first_way(img)"
      ]
    },
    {
      "cell_type": "code",
      "execution_count": null,
      "metadata": {
        "id": "i4NAzEzTtzmh"
      },
      "outputs": [],
      "source": [
        "from skimage import measure"
      ]
    },
    {
      "cell_type": "code",
      "execution_count": null,
      "metadata": {
        "colab": {
          "base_uri": "https://localhost:8080/",
          "height": 269
        },
        "id": "lvREb0PhyMWk",
        "outputId": "4e5ad0d2-583c-4850-a037-2321e3b6b972"
      },
      "outputs": [
        {
          "output_type": "display_data",
          "data": {
            "text/plain": [
              "<Figure size 432x288 with 1 Axes>"
            ],
            "image/png": "[encoded data removed]"
          },
          "metadata": {
            "needs_background": "light"
          }
        }
      ],
      "source": [
        "def Second_Way(yellow,img_rgb):\n",
        "  contours=measure.find_contours(yellow,.8)\n",
        "  fig, ax = plt.subplots()\n",
        "  ax.imshow(img_rgb, cmap=plt.cm.gray)\n",
        "\n",
        "  for contour in contours:\n",
        "      ax.plot(contour[:, 1], contour[:, 0], linewidth=2,color='white')\n",
        "\n",
        "  \n",
        "Second_Way(yellow,img_rgb)"
      ]
    }
  ],
  "metadata": {
    "colab": {
      "provenance": []
    },
    "kernelspec": {
      "display_name": "Python 3",
      "name": "python3"
    },
    "language_info": {
      "name": "python"
    }
  },
  "nbformat": 4,
  "nbformat_minor": 0
}